{
 "cells": [
  {
   "cell_type": "markdown",
   "metadata": {},
   "source": [
    "### Wykorzystanie metody Eulera do szacowania wychylenia oscylatora harmonicznego bez uwzględniania dyssypacji energii"
   ]
  },
  {
   "cell_type": "markdown",
   "metadata": {},
   "source": [
    "Stała sprężystości a siła:"
   ]
  },
  {
   "cell_type": "markdown",
   "metadata": {},
   "source": [
    "$$-kx = m\\ddot{x}$$\n",
    "\n"
   ]
  },
  {
   "cell_type": "markdown",
   "metadata": {},
   "source": [
    "Wiedząc, że: "
   ]
  },
  {
   "cell_type": "markdown",
   "metadata": {},
   "source": [
    "$$\\omega =\\sqrt{\\frac{k}{m}}$$"
   ]
  },
  {
   "cell_type": "markdown",
   "metadata": {},
   "source": [
    "Zapisujemy:"
   ]
  },
  {
   "cell_type": "markdown",
   "metadata": {},
   "source": [
    "$$ \\ddot{x} + \\omega^2x = 0 $$"
   ]
  },
  {
   "cell_type": "markdown",
   "metadata": {},
   "source": [
    "\n",
    "\n",
    "Równanie powyżej jest równaniem rózniczkowym drugiego stopnia.\n",
    "Potrzebujemy dwóch warunków początkowych, pozycję x(0) oraz szybkość x`(0)."
   ]
  },
  {
   "cell_type": "markdown",
   "metadata": {},
   "source": [
    "$$ x(0) = X_{0}$$\n",
    "$$ {x}'(0) = 0 $$"
   ]
  },
  {
   "cell_type": "markdown",
   "metadata": {},
   "source": [
    "Równanie rozwiązujemy przez odpowiednie podstawienia:"
   ]
  },
  {
   "cell_type": "markdown",
   "metadata": {},
   "source": [
    "$$u = x$$\n",
    "$$v = \\dot{x}$$"
   ]
  },
  {
   "cell_type": "markdown",
   "metadata": {},
   "source": [
    "Otrzymujemy:"
   ]
  },
  {
   "cell_type": "markdown",
   "metadata": {},
   "source": [
    "$${u}'=v$$\n",
    "$${v}'=-\\omega ^{2}\\cdot u$$"
   ]
  },
  {
   "cell_type": "markdown",
   "metadata": {},
   "source": [
    "### Kod:"
   ]
  },
  {
   "cell_type": "code",
   "execution_count": 1,
   "metadata": {},
   "outputs": [
    {
     "data": {
      "application/vnd.jupyter.widget-view+json": {
       "model_id": "5eb7e8e065c04e708d2d326e12b273a5",
       "version_major": 2,
       "version_minor": 0
      },
      "text/plain": [
       "interactive(children=(IntSlider(value=20, continuous_update=False, description='Podział:', max=1000, min=15), …"
      ]
     },
     "metadata": {},
     "output_type": "display_data"
    },
    {
     "data": {
      "text/plain": [
       "<function __main__.oscylator(a, b)>"
      ]
     },
     "execution_count": 1,
     "metadata": {},
     "output_type": "execute_result"
    }
   ],
   "source": [
    "import ipywidgets as widgets, matplotlib.pyplot as plt\n",
    "from numpy import zeros, linspace, pi, cos, array\n",
    "\n",
    "\n",
    "def oscylator(a, b):\n",
    "\n",
    "    omega = 2\n",
    "    okres = 2*pi/omega\n",
    "    dt = okres/a\n",
    "    T = b*okres\n",
    "    powtorzenia = int(round(T/dt))\n",
    "\n",
    "    #Naniesienie jednostki na oś poziomą\n",
    "    osPozioma = linspace(0, powtorzenia*dt, powtorzenia+1)\n",
    "\n",
    "    u = zeros(powtorzenia+1)\n",
    "    v = zeros(powtorzenia+1)\n",
    "\n",
    "    # warunki poczatkowe\n",
    "    X_0 = 1\n",
    "    u[0] = X_0\n",
    "    v[0] = 0\n",
    "\n",
    "    # kolejne kroki metoda Eulera\n",
    "    for n in range(powtorzenia):\n",
    "        u[n+1] = u[n] + dt*v[n]\n",
    "        v[n+1] = v[n] - dt*omega**2*u[n]\n",
    "\n",
    "    fig = plt.figure()\n",
    "    l1, l2 = plt.plot(osPozioma, u, 'b-', osPozioma, X_0*cos(omega*osPozioma), 'r--')\n",
    "    fig.legend((l1, l2), ('Numerycznie', 'Analitycznie'), 'upper right')\n",
    "    plt.xlabel('t')\n",
    "    plt.ylabel('x')\n",
    "    plt.title(\"Wychylenie od czasu\")\n",
    "    plt.show()\n",
    "\n",
    "widgets.interact(oscylator, a=widgets.IntSlider(\n",
    "    value=20,\n",
    "    min=15,\n",
    "    max=1000,\n",
    "    step=1,\n",
    "    description='Podział:',\n",
    "    disabled=False,\n",
    "    continuous_update=False,\n",
    "    orientation='horizontal',\n",
    "    readout=True,\n",
    "    readout_format='d'\n",
    "), b = widgets.IntSlider(\n",
    "    value=3,\n",
    "    min=2,\n",
    "    max=20,\n",
    "    step=1,\n",
    "    description='Okresy:',\n",
    "    disabled=False,\n",
    "    continuous_update=False,\n",
    "    orientation='horizontal',\n",
    "    readout=True,\n",
    "    readout_format='d'\n",
    "))\n"
   ]
  },
  {
   "cell_type": "markdown",
   "metadata": {},
   "source": [
    "### Czas potrebny na obliczenia w zależności od danej dokładności metody Eulera"
   ]
  },
  {
   "cell_type": "code",
   "execution_count": 6,
   "metadata": {},
   "outputs": [
    {
     "data": {
      "image/png": "[encoded data removed]",
      "text/plain": [
       "<Figure size 432x288 with 1 Axes>"
      ]
     },
     "metadata": {
      "needs_background": "light"
     },
     "output_type": "display_data"
    }
   ],
   "source": [
    "import matplotlib.pyplot as plt, time, math\n",
    "from numpy import zeros, linspace, pi, cos, array\n",
    "\n",
    "def oscylator(a):\n",
    "\n",
    "    t0= time.time()\n",
    "    omega = 2\n",
    "    okres = 2*pi/omega\n",
    "    dt = okres/a\n",
    "    T = 10*okres\n",
    "    powtorzenia = int(round(T/dt))\n",
    "\n",
    "    #Naniesienie jednostki na oś poziomą\n",
    "    osPozioma = linspace(0, powtorzenia*dt, powtorzenia+1)\n",
    "\n",
    "    u = zeros(powtorzenia+1)\n",
    "    v = zeros(powtorzenia+1)\n",
    "\n",
    "    # warunki poczatkowe\n",
    "    X_0 = 1\n",
    "    u[0] = X_0\n",
    "    v[0] = 0\n",
    "\n",
    "    # kolejne kroki metoda Eulera\n",
    "    for n in range(powtorzenia):\n",
    "        u[n+1] = u[n] + dt*v[n]\n",
    "        v[n+1] = v[n] - dt*omega**2*u[n]\n",
    "    t1 = time.time() - t0\n",
    "    t1 = round_up(t1, 4)\n",
    "    czas.append(t1)\n",
    "\n",
    "def round_up(n, decimals=0):\n",
    "    multiplier = 10 ** decimals\n",
    "    return math.ceil(n * multiplier) / multiplier\n",
    "\n",
    "\n",
    "czas = []\n",
    "podzial = []\n",
    "for i in range(1000):\n",
    "    oscylator(i + 1)\n",
    "    podzial.append(i + 1)\n",
    "\n",
    "\n",
    "fig = plt.figure()\n",
    "l1 = plt.plot(podzial, czas, 'b-',)\n",
    "plt.xlabel('Podział')\n",
    "plt.ylabel('Czas [s]')\n",
    "plt.title(\"Czas obliczeń a dokładność\")\n",
    "plt.show()\n"
   ]
  },
  {
   "cell_type": "markdown",
   "metadata": {},
   "source": [
    "![Wykres](https://i.imgur.com/kpblXjw.png)"
   ]
  }
 ],
 "metadata": {
  "kernelspec": {
   "display_name": "Python 3.10.5 64-bit",
   "language": "python",
   "name": "python3"
  },
  "language_info": {
   "codemirror_mode": {
    "name": "ipython",
    "version": 3
   },
   "file_extension": ".py",
   "mimetype": "text/x-python",
   "name": "python",
   "nbconvert_exporter": "python",
   "pygments_lexer": "ipython3",
   "version": "3.10.5"
  },
  "orig_nbformat": 4,
  "vscode": {
   "interpreter": {
    "hash": "2e6142a980511ec4b2688edcc9c8282860c68972cc4db48a4012961214e15f84"
   }
  }
 },
 "nbformat": 4,
 "nbformat_minor": 2
}
