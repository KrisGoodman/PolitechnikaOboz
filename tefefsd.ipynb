{
 "cells": [
  {
   "cell_type": "code",
   "execution_count": 3,
   "metadata": {},
   "outputs": [
    {
     "ename": "NameError",
     "evalue": "name 'widgets' is not defined",
     "output_type": "error",
     "traceback": [
      "\u001b[1;31m---------------------------------------------------------------------------\u001b[0m",
      "\u001b[1;31mNameError\u001b[0m                                 Traceback (most recent call last)",
      "\u001b[1;32mc:\\Programming\\Polibuda\\tefefsd.ipynb Komórka 1\u001b[0m in \u001b[0;36m<cell line: 33>\u001b[1;34m()\u001b[0m\n\u001b[0;32m     <a href='vscode-notebook-cell:/c%3A/Programming/Polibuda/tefefsd.ipynb#ch0000000?line=29'>30</a>\u001b[0m     plt\u001b[39m.\u001b[39mylabel(\u001b[39m'\u001b[39m\u001b[39mx\u001b[39m\u001b[39m'\u001b[39m)\n\u001b[0;32m     <a href='vscode-notebook-cell:/c%3A/Programming/Polibuda/tefefsd.ipynb#ch0000000?line=30'>31</a>\u001b[0m     plt\u001b[39m.\u001b[39mshow()\n\u001b[1;32m---> <a href='vscode-notebook-cell:/c%3A/Programming/Polibuda/tefefsd.ipynb#ch0000000?line=32'>33</a>\u001b[0m widgets\u001b[39m.\u001b[39minteract(oscylator, a\u001b[39m=\u001b[39m\u001b[39m10\u001b[39m, b \u001b[39m=\u001b[39m \u001b[39m3\u001b[39m)\n",
      "\u001b[1;31mNameError\u001b[0m: name 'widgets' is not defined"
     ]
    }
   ],
   "source": [
    "def oscylator(a, b):\n",
    "    import matplotlib.pyplot as plt\n",
    "    from numpy import zeros, linspace, pi, cos, array\n",
    "    from ipywidgets import interact, interactive, fixed, interact_manual\n",
    "\n",
    "    omega = 2\n",
    "    P = 2*pi/omega\n",
    "    dt = P/a\n",
    "    T = b*P\n",
    "    liczbaInterwalow = int(round(T/dt))\n",
    "    osPozioma = linspace(0, liczbaInterwalow*dt, liczbaInterwalow+1)\n",
    "\n",
    "    u = zeros(liczbaInterwalow+1)\n",
    "    v = zeros(liczbaInterwalow+1)\n",
    "\n",
    "    # warunki poczatkowe\n",
    "    X_0 = 2\n",
    "    u[0] = X_0\n",
    "    v[0] = 0\n",
    "\n",
    "    # kolejne kroki metoda Eulera\n",
    "    for n in range(liczbaInterwalow):\n",
    "        u[n+1] = u[n] + dt*v[n]\n",
    "        v[n+1] = v[n] - dt*omega**2*u[n]\n",
    "\n",
    "    fig = plt.figure()\n",
    "    l1, l2 = plt.plot(osPozioma, u, 'b-', osPozioma, X_0*cos(omega*osPozioma), 'r--')\n",
    "    fig.legend((l1, l2), ('Numerycznie', 'Analitycznie'), 'upper left')\n",
    "    plt.xlabel('t')\n",
    "    plt.ylabel('x')\n",
    "    plt.show()\n",
    "\n",
    "interact(oscylator, a=10, b = 3)\n"
   ]
  }
 ],
 "metadata": {
  "kernelspec": {
   "display_name": "Python 3.10.5 64-bit",
   "language": "python",
   "name": "python3"
  },
  "language_info": {
   "codemirror_mode": {
    "name": "ipython",
    "version": 3
   },
   "file_extension": ".py",
   "mimetype": "text/x-python",
   "name": "python",
   "nbconvert_exporter": "python",
   "pygments_lexer": "ipython3",
   "version": "3.10.5"
  },
  "orig_nbformat": 4,
  "vscode": {
   "interpreter": {
    "hash": "2e6142a980511ec4b2688edcc9c8282860c68972cc4db48a4012961214e15f84"
   }
  }
 },
 "nbformat": 4,
 "nbformat_minor": 2
}
