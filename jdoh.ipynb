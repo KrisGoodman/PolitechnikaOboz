{
 "cells": [
  {
   "cell_type": "markdown",
   "metadata": {},
   "source": [
    "# Jedno wymiarowy oscylator harmoniczny"
   ]
  },
  {
   "cell_type": "markdown",
   "metadata": {},
   "source": [
    "Równanie poniżej jest równaniem rózniczkowym drugiego stopnia, z tego powodu potrzebujemy dwóch warunków początkowych, pozycję x(0) oraz szybkość x`(0)."
   ]
  },
  {
   "cell_type": "markdown",
   "metadata": {},
   "source": [
    "$$ \\ddot{x} + \\omega^2x = 0 $$"
   ]
  },
  {
   "cell_type": "markdown",
   "metadata": {},
   "source": [
    "$$ x(0) = X_{0}$$\n"
   ]
  },
  {
   "cell_type": "markdown",
   "metadata": {},
   "source": [
    "$$ {x}'(0) = 0 $$"
   ]
  },
  {
   "cell_type": "code",
   "execution_count": 5,
   "metadata": {},
   "outputs": [
    {
     "data": {
      "application/vnd.jupyter.widget-view+json": {
       "model_id": "c1be8bf896004192ae86a785300907a2",
       "version_major": 2,
       "version_minor": 0
      },
      "text/plain": [
       "interactive(children=(IntSlider(value=20, continuous_update=False, description='Test:', max=1000, min=1), IntS…"
      ]
     },
     "metadata": {},
     "output_type": "display_data"
    },
    {
     "data": {
      "text/plain": [
       "<function __main__.oscylator(a, b)>"
      ]
     },
     "execution_count": 5,
     "metadata": {},
     "output_type": "execute_result"
    }
   ],
   "source": [
    "import ipywidgets as widgets, matplotlib.pyplot as plt, datetime\n",
    "from numpy import zeros, linspace, pi, cos, array\n",
    "\n",
    "\n",
    "def oscylator(a, b):\n",
    "\n",
    "    start_time = datetime.datetime.now()\n",
    "    omega = 2\n",
    "    P = 2*pi/omega\n",
    "    dt = P/a\n",
    "    T = b*P\n",
    "    liczbaInterwalow = int(round(T/dt))\n",
    "\n",
    "    #Naniesienie jednostki na oś poziomą\n",
    "    osPozioma = linspace(0, liczbaInterwalow*dt, liczbaInterwalow+1)\n",
    "\n",
    "    u = zeros(liczbaInterwalow+1)\n",
    "    v = zeros(liczbaInterwalow+1)\n",
    "\n",
    "    # warunki poczatkowe\n",
    "    X_0 = 1\n",
    "    u[0] = X_0\n",
    "    v[0] = 0\n",
    "\n",
    "    # kolejne kroki metoda Eulera\n",
    "    for n in range(liczbaInterwalow):\n",
    "        u[n+1] = u[n] + dt*v[n]\n",
    "        v[n+1] = v[n] - dt*omega**2*u[n]\n",
    "\n",
    "    fig = plt.figure()\n",
    "    l1, l2 = plt.plot(osPozioma, u, 'b-', osPozioma, X_0*cos(omega*osPozioma), 'r--')\n",
    "    fig.legend((l1, l2), ('Numerycznie', 'Analitycznie'), 'upper right')\n",
    "    plt.xlabel('t')\n",
    "    plt.ylabel('x')\n",
    "    plt.title(\"Title\")\n",
    "    plt.show()\n",
    "    end_time = datetime.datetime.now()\n",
    "    print(\"Execution time: \" + str(end_time - start_time))\n",
    "\n",
    "widgets.interact(oscylator, a=widgets.IntSlider(\n",
    "    value=20,\n",
    "    min=1,\n",
    "    max=1000,\n",
    "    step=1,\n",
    "    description='Test:',\n",
    "    disabled=False,\n",
    "    continuous_update=False,\n",
    "    orientation='horizontal',\n",
    "    readout=True,\n",
    "    readout_format='d'\n",
    "), b = widgets.IntSlider(\n",
    "    value=3,\n",
    "    min=1,\n",
    "    max=20,\n",
    "    step=1,\n",
    "    description='Test:',\n",
    "    disabled=False,\n",
    "    continuous_update=False,\n",
    "    orientation='horizontal',\n",
    "    readout=True,\n",
    "    readout_format='d'\n",
    "))\n"
   ]
  },
  {
   "cell_type": "code",
   "execution_count": 3,
   "metadata": {},
   "outputs": [
    {
     "data": {
      "image/png": "[encoded data removed]",
      "text/plain": [
       "<Figure size 432x288 with 1 Axes>"
      ]
     },
     "metadata": {
      "needs_background": "light"
     },
     "output_type": "display_data"
    }
   ],
   "source": [
    "import ipywidgets as widgets, matplotlib.pyplot as plt, time\n",
    "from numpy import zeros, linspace, pi, cos, array\n",
    "\n",
    "\n",
    "def oscylator(a):\n",
    "\n",
    "    t0= time.time()\n",
    "    omega = 2\n",
    "    P = 2*pi/omega\n",
    "    dt = P/a\n",
    "    T = 10*P\n",
    "    liczbaInterwalow = int(round(T/dt))\n",
    "\n",
    "    #Naniesienie jednostki na oś poziomą\n",
    "    osPozioma = linspace(0, liczbaInterwalow*dt, liczbaInterwalow+1)\n",
    "\n",
    "    u = zeros(liczbaInterwalow+1)\n",
    "    v = zeros(liczbaInterwalow+1)\n",
    "\n",
    "    # warunki poczatkowe\n",
    "    X_0 = 1\n",
    "    u[0] = X_0\n",
    "    v[0] = 0\n",
    "\n",
    "    # kolejne kroki metoda Eulera\n",
    "    for n in range(liczbaInterwalow):\n",
    "        u[n+1] = u[n] + dt*v[n]\n",
    "        v[n+1] = v[n] - dt*omega**2*u[n]\n",
    "    t1 = time.time() - t0\n",
    "    czas.append(t1)\n",
    "\n",
    "czas = []\n",
    "podzial = []\n",
    "for i in range(10000):\n",
    "    oscylator(i + 1)\n",
    "    podzial.append(i + 1)\n",
    "\n",
    "fig = plt.figure()\n",
    "l1 = plt.plot(podzial, czas, 'b-',)\n",
    "plt.xlabel('Podział')\n",
    "plt.ylabel('Czas')\n",
    "plt.title(\"Czas obliczeń a dokładność\")\n",
    "plt.show()\n"
   ]
  }
 ],
 "metadata": {
  "kernelspec": {
   "display_name": "Python 3.10.5 64-bit",
   "language": "python",
   "name": "python3"
  },
  "language_info": {
   "codemirror_mode": {
    "name": "ipython",
    "version": 3
   },
   "file_extension": ".py",
   "mimetype": "text/x-python",
   "name": "python",
   "nbconvert_exporter": "python",
   "pygments_lexer": "ipython3",
   "version": "3.10.5"
  },
  "orig_nbformat": 4,
  "vscode": {
   "interpreter": {
    "hash": "2e6142a980511ec4b2688edcc9c8282860c68972cc4db48a4012961214e15f84"
   }
  }
 },
 "nbformat": 4,
 "nbformat_minor": 2
}
